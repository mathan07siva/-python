{
 "cells": [
  {
   "cell_type": "code",
   "execution_count": 16,
   "id": "1445fdb7",
   "metadata": {},
   "outputs": [
    {
     "name": "stdout",
     "output_type": "stream",
     "text": [
      "enter the number:7\n",
      "7 is a odd number\n"
     ]
    }
   ],
   "source": [
    "#2.find a odd or even number\n",
    "\n",
    "n=int(input('enter the number:'))\n",
    "if(n%2==0):\n",
    "    print(n,'is a even number')\n",
    "else:\n",
    "    print(n,'is a odd number')"
   ]
  },
  {
   "cell_type": "code",
   "execution_count": 15,
   "id": "7279e912",
   "metadata": {},
   "outputs": [
    {
     "name": "stdout",
     "output_type": "stream",
     "text": [
      "enter the number:6\n",
      "6 is a even number\n"
     ]
    }
   ],
   "source": [
    "n=int(input('enter the number:'))\n",
    "if(n%2==0):\n",
    "    print(n,'is a even number')\n",
    "else:\n",
    "    print(n,'is a odd number')"
   ]
  },
  {
   "cell_type": "code",
   "execution_count": null,
   "id": "ba5b137e",
   "metadata": {},
   "outputs": [],
   "source": []
  }
 ],
 "metadata": {
  "kernelspec": {
   "display_name": "Python 3 (ipykernel)",
   "language": "python",
   "name": "python3"
  },
  "language_info": {
   "codemirror_mode": {
    "name": "ipython",
    "version": 3
   },
   "file_extension": ".py",
   "mimetype": "text/x-python",
   "name": "python",
   "nbconvert_exporter": "python",
   "pygments_lexer": "ipython3",
   "version": "3.11.4"
  }
 },
 "nbformat": 4,
 "nbformat_minor": 5
}
